{
 "cells": [
  {
   "cell_type": "code",
   "execution_count": null,
   "id": "5512dc48-7c16-4fcc-8a4a-2dbbbf45e100",
   "metadata": {},
   "outputs": [],
   "source": [
    "Ans 1 An exception is a condition that interrupts the normal flow of the program.\n",
    "Both errors and exceptions are a type of runtime error, which means they occur during the execution of a program."
   ]
  },
  {
   "cell_type": "code",
   "execution_count": null,
   "id": "29ef7905-0540-478c-9491-3d1dba07329d",
   "metadata": {},
   "outputs": [],
   "source": [
    "Ans 2  If an exception is not caught (with a catch block), \n",
    "    the runtime system will abort the program (i.e. crash) and an exception message will print to the console.\n",
    "    The message typically includes: name of exception type."
   ]
  },
  {
   "cell_type": "code",
   "execution_count": null,
   "id": "62bbbc4b-5d85-44bf-9b42-c1b64d3d2962",
   "metadata": {},
   "outputs": [],
   "source": [
    "Ans 3 The try and except block in Python is used to catch and handle exceptions. \n",
    "Python executes code following the try statement as a “normal” part of the program. \n",
    "The code that follows the except statement is the program's response to any exceptions in the preceding try clause."
   ]
  },
  {
   "cell_type": "code",
   "execution_count": null,
   "id": "5e9c5b8e-0efe-4412-8ccd-50dd552766bc",
   "metadata": {},
   "outputs": [],
   "source": [
    "Ans 4(a)  \n",
    "try:\n",
    "    f=open(\"test.txt\",'w')\n",
    "    f.write(\"write into my file\")\n",
    "    \n",
    "except Exception as e:\n",
    "    print(\"this is my except block\",e)\n",
    "\n",
    "else:\n",
    "    f.close()\n",
    "    print(\"tis will execute once try will execute without error\")\n",
    "    \n",
    "(b)\n",
    "try:\n",
    "    f=open(\"test.txt\",'w')\n",
    "    f.write(\"write into my file\")\n",
    "finally :\n",
    "    print(\"this is end of code\")\n",
    "    \n",
    "(c)\n",
    "def validateage(age):\n",
    "    if age < 0:\n",
    "        raise validateage(\"entered age is negative\")\n",
    "    elif age>200:\n",
    "        raise validateage (\"entered age is very very high\")\n",
    "    else:\n",
    "        print (\"age is valid\")\n",
    "    "
   ]
  },
  {
   "cell_type": "code",
   "execution_count": null,
   "id": "c47d98f6-cdbe-4c6d-a827-a6ffd04d970a",
   "metadata": {},
   "outputs": [],
   "source": [
    "Ans 5 To create a custom exception class,\n",
    "you define a class that inherits from the built-in Exception class or one of its subclasses such as ValueError class.\n",
    "Built-in exceptions offer information about Python-related problems, and custom exceptions will add information about project-related problems.\n",
    "\n",
    "class validateage(Exception):\n",
    "     \n",
    "    def __init__(self,msg):\n",
    "        self.msg=msg\n",
    "    \n",
    "def validateage(age):\n",
    "    if age < 0:\n",
    "        raise validateage(\"entered age is negative\")\n",
    "    elif age>200:\n",
    "        raise validateage (\"entered age is very very high\")\n",
    "    else:\n",
    "        print (\"age is valid\")\n",
    "        \n",
    "try:\n",
    "    age=int(input(\"enter your age\"))\n",
    "    validateage(age)\n",
    "except validateage as e :\n",
    "    print(e)        "
   ]
  },
  {
   "cell_type": "code",
   "execution_count": null,
   "id": "3ecb53df-80e0-4fd3-9f1e-0520534f5008",
   "metadata": {},
   "outputs": [],
   "source": [
    "Ans 6 \n",
    "class MyError(Exception):\n",
    " \n",
    "    # Constructor or Initializer\n",
    "    def __init__(self, value):\n",
    "        self.value = value\n",
    " \n",
    "    # __str__ is to print() the value\n",
    "    def __str__(self):\n",
    "        return(repr(self.value))\n",
    " \n",
    " \n",
    "try:\n",
    "    raise(MyError(3*2))\n",
    " \n",
    "# Value of Exception is stored in error\n",
    "except MyError as error:\n",
    "    print('A New Exception occurred: ', error.value)"
   ]
  }
 ],
 "metadata": {
  "kernelspec": {
   "display_name": "Python 3 (ipykernel)",
   "language": "python",
   "name": "python3"
  },
  "language_info": {
   "codemirror_mode": {
    "name": "ipython",
    "version": 3
   },
   "file_extension": ".py",
   "mimetype": "text/x-python",
   "name": "python",
   "nbconvert_exporter": "python",
   "pygments_lexer": "ipython3",
   "version": "3.10.8"
  }
 },
 "nbformat": 4,
 "nbformat_minor": 5
}

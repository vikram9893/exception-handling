{
 "cells": [
  {
   "cell_type": "code",
   "execution_count": null,
   "id": "cdfe5db8-0b55-4ed1-8c97-8257b9884af6",
   "metadata": {},
   "outputs": [],
   "source": [
    "Ans 1 To improve readability of your code.\n",
    "To enhance reusability of features.\n",
    "To provide custom messages/instructions to users for specific use cases."
   ]
  },
  {
   "cell_type": "code",
   "execution_count": 3,
   "id": "91e5f526-9ac0-4dcc-8589-102e4ce5d7f7",
   "metadata": {},
   "outputs": [],
   "source": [
    "Ans 2 \n",
    "def print_exception_hierarchy():\n",
    "    \"\"\"\n",
    "    This function prints the Python Exception Hierarchy.\n",
    "    \"\"\"\n",
    "    base_exceptions = [\n",
    "        BaseException,\n",
    "        SystemExit,\n",
    "        KeyboardInterrupt,\n",
    "        GeneratorExit,\n",
    "    ]\n",
    "    exceptions = base_exceptions + list(vars(__builtins__).values())\n",
    "    hierarchy = {}\n",
    "    for exc in exceptions:\n",
    "        hierarchy[exc] = []\n",
    "        for parent in exc.__bases__:\n",
    "            if parent in exceptions:\n",
    "                hierarchy[exc].append(parent)\n",
    "    for exc in base_exceptions:\n",
    "        print(f\"{exc.__name__}:\")\n",
    "        _print_subtree(hierarchy, exc, 1)\n",
    "\n",
    "def _print_subtree(hierarchy, exc, depth):\n",
    "    \"\"\"\n",
    "    This is a helper function to print a subtree of the Python Exception Hierarchy.\n",
    "    \"\"\"\n",
    "    children = hierarchy[exc]\n",
    "    for child in children:\n",
    "        print(\"  \" * depth + child.__name__ + \":\")\n",
    "        _print_subtree(hierarchy, child, depth + 1)"
   ]
  },
  {
   "cell_type": "code",
   "execution_count": null,
   "id": "1ebf965d-94bd-4fcf-bad7-8a339422ca22",
   "metadata": {},
   "outputs": [],
   "source": [
    "Ans 3 \n",
    "ArithmeticError types in Python include:\n",
    "\n",
    "OverFlowError\n",
    "ZeroDivisionError\n",
    "FloatingPointError\n",
    "\n",
    "\n",
    "\n",
    "try:\n",
    "    a=10/0\n",
    "\n",
    "except ZeroDivisionError as e:\n",
    "    print(e)"
   ]
  },
  {
   "cell_type": "code",
   "execution_count": null,
   "id": "3d720bf3-f526-4c9c-bec0-b6379a8bc1ee",
   "metadata": {},
   "outputs": [],
   "source": [
    "Ans 4  The LookupError exception in Python forms the base class for all exceptions \n",
    "that are raised when an index or a key is not found for a sequence or dictionary respectively.\n",
    "\n",
    "try:\n",
    "    d={\"key\":\"sudh\",1:[2,3,4,5]}\n",
    "    print(d[\"key2\"])\n",
    "except KeyError as e:\n",
    "    print(e)"
   ]
  },
  {
   "cell_type": "code",
   "execution_count": null,
   "id": "3ae08dc6-f790-4eeb-af55-7e8b4f832bae",
   "metadata": {},
   "outputs": [],
   "source": [
    "Ans 5  Python's ImportError ( ModuleNotFoundError ) indicates that you tried to import a module that Python doesn't find. \n",
    "It can usually be eliminated by adding a file named __init__.py to the directory and then adding this directory to $PYTHONPATH ."
   ]
  },
  {
   "cell_type": "code",
   "execution_count": null,
   "id": "e70abe44-b711-4332-9e4e-aa571e7fbea9",
   "metadata": {},
   "outputs": [],
   "source": [
    "Ans 6 \n",
    "#use always a specific exception\n",
    "#print always a proper message\n",
    "#always try to "
   ]
  }
 ],
 "metadata": {
  "kernelspec": {
   "display_name": "Python 3 (ipykernel)",
   "language": "python",
   "name": "python3"
  },
  "language_info": {
   "codemirror_mode": {
    "name": "ipython",
    "version": 3
   },
   "file_extension": ".py",
   "mimetype": "text/x-python",
   "name": "python",
   "nbconvert_exporter": "python",
   "pygments_lexer": "ipython3",
   "version": "3.10.8"
  }
 },
 "nbformat": 4,
 "nbformat_minor": 5
}
